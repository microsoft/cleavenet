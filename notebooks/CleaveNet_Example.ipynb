{
 "cells": [
  {
   "cell_type": "code",
   "execution_count": 1,
   "id": "6f9614fd",
   "metadata": {
    "scrolled": true
   },
   "outputs": [
    {
     "name": "stdout",
     "output_type": "stream",
     "text": [
      "Requirement already satisfied: tensorflow in /home/salamdari/miniconda3/envs/cleavenet/lib/python3.12/site-packages (2.18.0)\n",
      "Requirement already satisfied: absl-py>=1.0.0 in /home/salamdari/miniconda3/envs/cleavenet/lib/python3.12/site-packages (from tensorflow) (2.1.0)\n",
      "Requirement already satisfied: astunparse>=1.6.0 in /home/salamdari/miniconda3/envs/cleavenet/lib/python3.12/site-packages (from tensorflow) (1.6.3)\n",
      "Requirement already satisfied: flatbuffers>=24.3.25 in /home/salamdari/miniconda3/envs/cleavenet/lib/python3.12/site-packages (from tensorflow) (25.1.24)\n",
      "Requirement already satisfied: gast!=0.5.0,!=0.5.1,!=0.5.2,>=0.2.1 in /home/salamdari/miniconda3/envs/cleavenet/lib/python3.12/site-packages (from tensorflow) (0.6.0)\n",
      "Requirement already satisfied: google-pasta>=0.1.1 in /home/salamdari/miniconda3/envs/cleavenet/lib/python3.12/site-packages (from tensorflow) (0.2.0)\n",
      "Requirement already satisfied: libclang>=13.0.0 in /home/salamdari/miniconda3/envs/cleavenet/lib/python3.12/site-packages (from tensorflow) (18.1.1)\n",
      "Requirement already satisfied: opt-einsum>=2.3.2 in /home/salamdari/miniconda3/envs/cleavenet/lib/python3.12/site-packages (from tensorflow) (3.4.0)\n",
      "Requirement already satisfied: packaging in /home/salamdari/miniconda3/envs/cleavenet/lib/python3.12/site-packages (from tensorflow) (24.2)\n",
      "Requirement already satisfied: protobuf!=4.21.0,!=4.21.1,!=4.21.2,!=4.21.3,!=4.21.4,!=4.21.5,<6.0.0dev,>=3.20.3 in /home/salamdari/miniconda3/envs/cleavenet/lib/python3.12/site-packages (from tensorflow) (5.29.3)\n",
      "Requirement already satisfied: requests<3,>=2.21.0 in /home/salamdari/miniconda3/envs/cleavenet/lib/python3.12/site-packages (from tensorflow) (2.32.3)\n",
      "Requirement already satisfied: setuptools in /home/salamdari/miniconda3/envs/cleavenet/lib/python3.12/site-packages (from tensorflow) (75.8.0)\n",
      "Requirement already satisfied: six>=1.12.0 in /home/salamdari/miniconda3/envs/cleavenet/lib/python3.12/site-packages (from tensorflow) (1.16.0)\n",
      "Requirement already satisfied: termcolor>=1.1.0 in /home/salamdari/miniconda3/envs/cleavenet/lib/python3.12/site-packages (from tensorflow) (2.5.0)\n",
      "Requirement already satisfied: typing-extensions>=3.6.6 in /home/salamdari/miniconda3/envs/cleavenet/lib/python3.12/site-packages (from tensorflow) (4.12.2)\n",
      "Requirement already satisfied: wrapt>=1.11.0 in /home/salamdari/miniconda3/envs/cleavenet/lib/python3.12/site-packages (from tensorflow) (1.17.0)\n",
      "Requirement already satisfied: grpcio<2.0,>=1.24.3 in /home/salamdari/miniconda3/envs/cleavenet/lib/python3.12/site-packages (from tensorflow) (1.70.0)\n",
      "Requirement already satisfied: tensorboard<2.19,>=2.18 in /home/salamdari/miniconda3/envs/cleavenet/lib/python3.12/site-packages (from tensorflow) (2.18.0)\n",
      "Requirement already satisfied: keras>=3.5.0 in /home/salamdari/miniconda3/envs/cleavenet/lib/python3.12/site-packages (from tensorflow) (3.8.0)\n",
      "Requirement already satisfied: numpy<2.1.0,>=1.26.0 in /home/salamdari/miniconda3/envs/cleavenet/lib/python3.12/site-packages (from tensorflow) (2.0.1)\n",
      "Requirement already satisfied: h5py>=3.11.0 in /home/salamdari/miniconda3/envs/cleavenet/lib/python3.12/site-packages (from tensorflow) (3.12.1)\n",
      "Requirement already satisfied: ml-dtypes<0.5.0,>=0.4.0 in /home/salamdari/miniconda3/envs/cleavenet/lib/python3.12/site-packages (from tensorflow) (0.4.1)\n",
      "Requirement already satisfied: wheel<1.0,>=0.23.0 in /home/salamdari/miniconda3/envs/cleavenet/lib/python3.12/site-packages (from astunparse>=1.6.0->tensorflow) (0.45.1)\n",
      "Requirement already satisfied: rich in /home/salamdari/miniconda3/envs/cleavenet/lib/python3.12/site-packages (from keras>=3.5.0->tensorflow) (13.9.4)\n",
      "Requirement already satisfied: namex in /home/salamdari/miniconda3/envs/cleavenet/lib/python3.12/site-packages (from keras>=3.5.0->tensorflow) (0.0.8)\n",
      "Requirement already satisfied: optree in /home/salamdari/miniconda3/envs/cleavenet/lib/python3.12/site-packages (from keras>=3.5.0->tensorflow) (0.14.0)\n",
      "Requirement already satisfied: charset-normalizer<4,>=2 in /home/salamdari/miniconda3/envs/cleavenet/lib/python3.12/site-packages (from requests<3,>=2.21.0->tensorflow) (3.3.2)\n",
      "Requirement already satisfied: idna<4,>=2.5 in /home/salamdari/miniconda3/envs/cleavenet/lib/python3.12/site-packages (from requests<3,>=2.21.0->tensorflow) (3.7)\n",
      "Requirement already satisfied: urllib3<3,>=1.21.1 in /home/salamdari/miniconda3/envs/cleavenet/lib/python3.12/site-packages (from requests<3,>=2.21.0->tensorflow) (2.3.0)\n",
      "Requirement already satisfied: certifi>=2017.4.17 in /home/salamdari/miniconda3/envs/cleavenet/lib/python3.12/site-packages (from requests<3,>=2.21.0->tensorflow) (2025.1.31)\n",
      "Requirement already satisfied: markdown>=2.6.8 in /home/salamdari/miniconda3/envs/cleavenet/lib/python3.12/site-packages (from tensorboard<2.19,>=2.18->tensorflow) (3.7)\n",
      "Requirement already satisfied: tensorboard-data-server<0.8.0,>=0.7.0 in /home/salamdari/miniconda3/envs/cleavenet/lib/python3.12/site-packages (from tensorboard<2.19,>=2.18->tensorflow) (0.7.2)\n",
      "Requirement already satisfied: werkzeug>=1.0.1 in /home/salamdari/miniconda3/envs/cleavenet/lib/python3.12/site-packages (from tensorboard<2.19,>=2.18->tensorflow) (3.1.3)\n",
      "Requirement already satisfied: MarkupSafe>=2.1.1 in /home/salamdari/miniconda3/envs/cleavenet/lib/python3.12/site-packages (from werkzeug>=1.0.1->tensorboard<2.19,>=2.18->tensorflow) (2.1.3)\n",
      "Requirement already satisfied: markdown-it-py>=2.2.0 in /home/salamdari/miniconda3/envs/cleavenet/lib/python3.12/site-packages (from rich->keras>=3.5.0->tensorflow) (2.2.0)\n",
      "Requirement already satisfied: pygments<3.0.0,>=2.13.0 in /home/salamdari/miniconda3/envs/cleavenet/lib/python3.12/site-packages (from rich->keras>=3.5.0->tensorflow) (2.15.1)\n",
      "Requirement already satisfied: mdurl~=0.1 in /home/salamdari/miniconda3/envs/cleavenet/lib/python3.12/site-packages (from markdown-it-py>=2.2.0->rich->keras>=3.5.0->tensorflow) (0.1.0)\n",
      "Looking in indexes: https://test.pypi.org/simple/\n",
      "Requirement already satisfied: cleavenet in /home/salamdari/miniconda3/envs/cleavenet/lib/python3.12/site-packages (0.1.0)\n"
     ]
    }
   ],
   "source": [
    "!pwd # you should be in the cleavenet directory (outside of notebooks)\n",
    "!pip install tensorflow # will compile on CPU \n",
    "!pip install cleavenet"
   ]
  },
  {
   "cell_type": "code",
   "execution_count": 2,
   "id": "9b328146",
   "metadata": {},
   "outputs": [
    {
     "name": "stderr",
     "output_type": "stream",
     "text": [
      "2025-02-04 07:56:59.029052: E external/local_xla/xla/stream_executor/cuda/cuda_fft.cc:477] Unable to register cuFFT factory: Attempting to register factory for plugin cuFFT when one has already been registered\n",
      "WARNING: All log messages before absl::InitializeLog() is called are written to STDERR\n",
      "E0000 00:00:1738684619.049601 3732378 cuda_dnn.cc:8310] Unable to register cuDNN factory: Attempting to register factory for plugin cuDNN when one has already been registered\n",
      "E0000 00:00:1738684619.056278 3732378 cuda_blas.cc:1418] Unable to register cuBLAS factory: Attempting to register factory for plugin cuBLAS when one has already been registered\n",
      "2025-02-04 07:56:59.078273: I tensorflow/core/platform/cpu_feature_guard.cc:210] This TensorFlow binary is optimized to use available CPU instructions in performance-critical operations.\n",
      "To enable the following instructions: AVX2 FMA, in other operations, rebuild TensorFlow with the appropriate compiler flags.\n"
     ]
    }
   ],
   "source": [
    "import os \n",
    "import csv\n",
    "import pandas as pd\n",
    "\n",
    "import cleavenet \n",
    "from cleavenet.models import predict_scores_simple #, generate_substrates_simple\n",
    "from cleavenet.utils import mmps\n",
    "from cleavenet.analysis import calc_selectivity_score"
   ]
  },
  {
   "cell_type": "markdown",
   "id": "c983b0f3",
   "metadata": {},
   "source": [
    "# CleaveNet predictions \n",
    "\n",
    "Predict Z-scores for a custom set of substrates"
   ]
  },
  {
   "cell_type": "code",
   "execution_count": 3,
   "id": "5d2a219d",
   "metadata": {},
   "outputs": [],
   "source": [
    "## ---- Inputs to change ----- ### \n",
    "\n",
    "# replace the following example substrates with a list of your substrates \n",
    "substrates = [\n",
    "    '--AAALS---',\n",
    "    'FMPLNFTASG',\n",
    "    'LGPYAMTSRG',\n",
    "    'AARFKKFATE',\n",
    "    'AKPNRLVNSY',\n",
    "    'YGPRAVTASG',\n",
    "    'SGPRAFWGTA'\n",
    "    ]\n",
    "\n",
    "\n",
    "# The default prediction settings should work for most cases\n",
    "\n",
    "save_dir = 'outputs/' # where to save outputs \n",
    "model_architecture = 'transformer' # 'transformer' or 'lstm'\n",
    "checkpoint_dir = 'weights/' # relative path to weights folder"
   ]
  },
  {
   "cell_type": "code",
   "execution_count": 4,
   "id": "6f13490b",
   "metadata": {
    "scrolled": true
   },
   "outputs": [
    {
     "name": "stdout",
     "output_type": "stream",
     "text": [
      "Splits previously written to file\n",
      "Vocab: \n",
      " {'-': 0, 'A': 1, 'C': 2, 'D': 3, 'E': 4, 'F': 5, 'G': 6, 'H': 7, 'I': 8, 'K': 9, 'L': 10, 'M': 11, 'N': 12, 'P': 13, 'Q': 14, 'R': 15, 'S': 16, 'T': 17, 'V': 18, 'W': 19, 'Y': 20, '!': 21}\n",
      "7 --AAALS---\n",
      "Running 0 transformer_0/\n",
      "EVALUATING SEQUENCES FROM outputs/\n"
     ]
    },
    {
     "name": "stderr",
     "output_type": "stream",
     "text": [
      "W0000 00:00:1738684621.794453 3732378 gpu_device.cc:2344] Cannot dlopen some GPU libraries. Please make sure the missing libraries mentioned above are installed properly if you would like to use GPU. Follow the guide at https://www.tensorflow.org/install/gpu for how to download and setup the required libraries for your platform.\n",
      "Skipping registering GPU devices...\n"
     ]
    },
    {
     "data": {
      "text/html": [
       "<pre style=\"white-space:pre;overflow-x:auto;line-height:normal;font-family:Menlo,'DejaVu Sans Mono',consolas,'Courier New',monospace\"><span style=\"font-weight: bold\">Model: \"transformer_encoder\"</span>\n",
       "</pre>\n"
      ],
      "text/plain": [
       "\u001B[1mModel: \"transformer_encoder\"\u001B[0m\n"
      ]
     },
     "metadata": {},
     "output_type": "display_data"
    },
    {
     "data": {
      "text/html": [
       "<pre style=\"white-space:pre;overflow-x:auto;line-height:normal;font-family:Menlo,'DejaVu Sans Mono',consolas,'Courier New',monospace\">┏━━━━━━━━━━━━━━━━━━━━━━━━━━━━━━━━━┳━━━━━━━━━━━━━━━━━━━━━━━━┳━━━━━━━━━━━━━━━┓\n",
       "┃<span style=\"font-weight: bold\"> Layer (type)                    </span>┃<span style=\"font-weight: bold\"> Output Shape           </span>┃<span style=\"font-weight: bold\">       Param # </span>┃\n",
       "┡━━━━━━━━━━━━━━━━━━━━━━━━━━━━━━━━━╇━━━━━━━━━━━━━━━━━━━━━━━━╇━━━━━━━━━━━━━━━┩\n",
       "│ encoder (<span style=\"color: #0087ff; text-decoration-color: #0087ff\">Encoder</span>)               │ ?                      │        <span style=\"color: #00af00; text-decoration-color: #00af00\">55,552</span> │\n",
       "├─────────────────────────────────┼────────────────────────┼───────────────┤\n",
       "│ dense_4 (<span style=\"color: #0087ff; text-decoration-color: #0087ff\">Dense</span>)                 │ (<span style=\"color: #00af00; text-decoration-color: #00af00\">1</span>, <span style=\"color: #00af00; text-decoration-color: #00af00\">18</span>)                │           <span style=\"color: #00af00; text-decoration-color: #00af00\">594</span> │\n",
       "└─────────────────────────────────┴────────────────────────┴───────────────┘\n",
       "</pre>\n"
      ],
      "text/plain": [
       "┏━━━━━━━━━━━━━━━━━━━━━━━━━━━━━━━━━┳━━━━━━━━━━━━━━━━━━━━━━━━┳━━━━━━━━━━━━━━━┓\n",
       "┃\u001B[1m \u001B[0m\u001B[1mLayer (type)                   \u001B[0m\u001B[1m \u001B[0m┃\u001B[1m \u001B[0m\u001B[1mOutput Shape          \u001B[0m\u001B[1m \u001B[0m┃\u001B[1m \u001B[0m\u001B[1m      Param #\u001B[0m\u001B[1m \u001B[0m┃\n",
       "┡━━━━━━━━━━━━━━━━━━━━━━━━━━━━━━━━━╇━━━━━━━━━━━━━━━━━━━━━━━━╇━━━━━━━━━━━━━━━┩\n",
       "│ encoder (\u001B[38;5;33mEncoder\u001B[0m)               │ ?                      │        \u001B[38;5;34m55,552\u001B[0m │\n",
       "├─────────────────────────────────┼────────────────────────┼───────────────┤\n",
       "│ dense_4 (\u001B[38;5;33mDense\u001B[0m)                 │ (\u001B[38;5;34m1\u001B[0m, \u001B[38;5;34m18\u001B[0m)                │           \u001B[38;5;34m594\u001B[0m │\n",
       "└─────────────────────────────────┴────────────────────────┴───────────────┘\n"
      ]
     },
     "metadata": {},
     "output_type": "display_data"
    },
    {
     "data": {
      "text/html": [
       "<pre style=\"white-space:pre;overflow-x:auto;line-height:normal;font-family:Menlo,'DejaVu Sans Mono',consolas,'Courier New',monospace\"><span style=\"font-weight: bold\"> Total params: </span><span style=\"color: #00af00; text-decoration-color: #00af00\">56,146</span> (219.32 KB)\n",
       "</pre>\n"
      ],
      "text/plain": [
       "\u001B[1m Total params: \u001B[0m\u001B[38;5;34m56,146\u001B[0m (219.32 KB)\n"
      ]
     },
     "metadata": {},
     "output_type": "display_data"
    },
    {
     "data": {
      "text/html": [
       "<pre style=\"white-space:pre;overflow-x:auto;line-height:normal;font-family:Menlo,'DejaVu Sans Mono',consolas,'Courier New',monospace\"><span style=\"font-weight: bold\"> Trainable params: </span><span style=\"color: #00af00; text-decoration-color: #00af00\">56,146</span> (219.32 KB)\n",
       "</pre>\n"
      ],
      "text/plain": [
       "\u001B[1m Trainable params: \u001B[0m\u001B[38;5;34m56,146\u001B[0m (219.32 KB)\n"
      ]
     },
     "metadata": {},
     "output_type": "display_data"
    },
    {
     "data": {
      "text/html": [
       "<pre style=\"white-space:pre;overflow-x:auto;line-height:normal;font-family:Menlo,'DejaVu Sans Mono',consolas,'Courier New',monospace\"><span style=\"font-weight: bold\"> Non-trainable params: </span><span style=\"color: #00af00; text-decoration-color: #00af00\">0</span> (0.00 B)\n",
       "</pre>\n"
      ],
      "text/plain": [
       "\u001B[1m Non-trainable params: \u001B[0m\u001B[38;5;34m0\u001B[0m (0.00 B)\n"
      ]
     },
     "metadata": {},
     "output_type": "display_data"
    },
    {
     "name": "stdout",
     "output_type": "stream",
     "text": [
      "Running 1 transformer_1/\n",
      "EVALUATING SEQUENCES FROM outputs/\n"
     ]
    },
    {
     "data": {
      "text/html": [
       "<pre style=\"white-space:pre;overflow-x:auto;line-height:normal;font-family:Menlo,'DejaVu Sans Mono',consolas,'Courier New',monospace\"><span style=\"font-weight: bold\">Model: \"transformer_encoder_1\"</span>\n",
       "</pre>\n"
      ],
      "text/plain": [
       "\u001B[1mModel: \"transformer_encoder_1\"\u001B[0m\n"
      ]
     },
     "metadata": {},
     "output_type": "display_data"
    },
    {
     "data": {
      "text/html": [
       "<pre style=\"white-space:pre;overflow-x:auto;line-height:normal;font-family:Menlo,'DejaVu Sans Mono',consolas,'Courier New',monospace\">┏━━━━━━━━━━━━━━━━━━━━━━━━━━━━━━━━━┳━━━━━━━━━━━━━━━━━━━━━━━━┳━━━━━━━━━━━━━━━┓\n",
       "┃<span style=\"font-weight: bold\"> Layer (type)                    </span>┃<span style=\"font-weight: bold\"> Output Shape           </span>┃<span style=\"font-weight: bold\">       Param # </span>┃\n",
       "┡━━━━━━━━━━━━━━━━━━━━━━━━━━━━━━━━━╇━━━━━━━━━━━━━━━━━━━━━━━━╇━━━━━━━━━━━━━━━┩\n",
       "│ encoder_1 (<span style=\"color: #0087ff; text-decoration-color: #0087ff\">Encoder</span>)             │ ?                      │        <span style=\"color: #00af00; text-decoration-color: #00af00\">55,552</span> │\n",
       "├─────────────────────────────────┼────────────────────────┼───────────────┤\n",
       "│ dense_9 (<span style=\"color: #0087ff; text-decoration-color: #0087ff\">Dense</span>)                 │ (<span style=\"color: #00af00; text-decoration-color: #00af00\">1</span>, <span style=\"color: #00af00; text-decoration-color: #00af00\">18</span>)                │           <span style=\"color: #00af00; text-decoration-color: #00af00\">594</span> │\n",
       "└─────────────────────────────────┴────────────────────────┴───────────────┘\n",
       "</pre>\n"
      ],
      "text/plain": [
       "┏━━━━━━━━━━━━━━━━━━━━━━━━━━━━━━━━━┳━━━━━━━━━━━━━━━━━━━━━━━━┳━━━━━━━━━━━━━━━┓\n",
       "┃\u001B[1m \u001B[0m\u001B[1mLayer (type)                   \u001B[0m\u001B[1m \u001B[0m┃\u001B[1m \u001B[0m\u001B[1mOutput Shape          \u001B[0m\u001B[1m \u001B[0m┃\u001B[1m \u001B[0m\u001B[1m      Param #\u001B[0m\u001B[1m \u001B[0m┃\n",
       "┡━━━━━━━━━━━━━━━━━━━━━━━━━━━━━━━━━╇━━━━━━━━━━━━━━━━━━━━━━━━╇━━━━━━━━━━━━━━━┩\n",
       "│ encoder_1 (\u001B[38;5;33mEncoder\u001B[0m)             │ ?                      │        \u001B[38;5;34m55,552\u001B[0m │\n",
       "├─────────────────────────────────┼────────────────────────┼───────────────┤\n",
       "│ dense_9 (\u001B[38;5;33mDense\u001B[0m)                 │ (\u001B[38;5;34m1\u001B[0m, \u001B[38;5;34m18\u001B[0m)                │           \u001B[38;5;34m594\u001B[0m │\n",
       "└─────────────────────────────────┴────────────────────────┴───────────────┘\n"
      ]
     },
     "metadata": {},
     "output_type": "display_data"
    },
    {
     "data": {
      "text/html": [
       "<pre style=\"white-space:pre;overflow-x:auto;line-height:normal;font-family:Menlo,'DejaVu Sans Mono',consolas,'Courier New',monospace\"><span style=\"font-weight: bold\"> Total params: </span><span style=\"color: #00af00; text-decoration-color: #00af00\">56,146</span> (219.32 KB)\n",
       "</pre>\n"
      ],
      "text/plain": [
       "\u001B[1m Total params: \u001B[0m\u001B[38;5;34m56,146\u001B[0m (219.32 KB)\n"
      ]
     },
     "metadata": {},
     "output_type": "display_data"
    },
    {
     "data": {
      "text/html": [
       "<pre style=\"white-space:pre;overflow-x:auto;line-height:normal;font-family:Menlo,'DejaVu Sans Mono',consolas,'Courier New',monospace\"><span style=\"font-weight: bold\"> Trainable params: </span><span style=\"color: #00af00; text-decoration-color: #00af00\">56,146</span> (219.32 KB)\n",
       "</pre>\n"
      ],
      "text/plain": [
       "\u001B[1m Trainable params: \u001B[0m\u001B[38;5;34m56,146\u001B[0m (219.32 KB)\n"
      ]
     },
     "metadata": {},
     "output_type": "display_data"
    },
    {
     "data": {
      "text/html": [
       "<pre style=\"white-space:pre;overflow-x:auto;line-height:normal;font-family:Menlo,'DejaVu Sans Mono',consolas,'Courier New',monospace\"><span style=\"font-weight: bold\"> Non-trainable params: </span><span style=\"color: #00af00; text-decoration-color: #00af00\">0</span> (0.00 B)\n",
       "</pre>\n"
      ],
      "text/plain": [
       "\u001B[1m Non-trainable params: \u001B[0m\u001B[38;5;34m0\u001B[0m (0.00 B)\n"
      ]
     },
     "metadata": {},
     "output_type": "display_data"
    },
    {
     "name": "stdout",
     "output_type": "stream",
     "text": [
      "Running 2 transformer_2/\n",
      "EVALUATING SEQUENCES FROM outputs/\n"
     ]
    },
    {
     "data": {
      "text/html": [
       "<pre style=\"white-space:pre;overflow-x:auto;line-height:normal;font-family:Menlo,'DejaVu Sans Mono',consolas,'Courier New',monospace\"><span style=\"font-weight: bold\">Model: \"transformer_encoder_2\"</span>\n",
       "</pre>\n"
      ],
      "text/plain": [
       "\u001B[1mModel: \"transformer_encoder_2\"\u001B[0m\n"
      ]
     },
     "metadata": {},
     "output_type": "display_data"
    },
    {
     "data": {
      "text/html": [
       "<pre style=\"white-space:pre;overflow-x:auto;line-height:normal;font-family:Menlo,'DejaVu Sans Mono',consolas,'Courier New',monospace\">┏━━━━━━━━━━━━━━━━━━━━━━━━━━━━━━━━━┳━━━━━━━━━━━━━━━━━━━━━━━━┳━━━━━━━━━━━━━━━┓\n",
       "┃<span style=\"font-weight: bold\"> Layer (type)                    </span>┃<span style=\"font-weight: bold\"> Output Shape           </span>┃<span style=\"font-weight: bold\">       Param # </span>┃\n",
       "┡━━━━━━━━━━━━━━━━━━━━━━━━━━━━━━━━━╇━━━━━━━━━━━━━━━━━━━━━━━━╇━━━━━━━━━━━━━━━┩\n",
       "│ encoder_2 (<span style=\"color: #0087ff; text-decoration-color: #0087ff\">Encoder</span>)             │ ?                      │        <span style=\"color: #00af00; text-decoration-color: #00af00\">55,552</span> │\n",
       "├─────────────────────────────────┼────────────────────────┼───────────────┤\n",
       "│ dense_14 (<span style=\"color: #0087ff; text-decoration-color: #0087ff\">Dense</span>)                │ (<span style=\"color: #00af00; text-decoration-color: #00af00\">1</span>, <span style=\"color: #00af00; text-decoration-color: #00af00\">18</span>)                │           <span style=\"color: #00af00; text-decoration-color: #00af00\">594</span> │\n",
       "└─────────────────────────────────┴────────────────────────┴───────────────┘\n",
       "</pre>\n"
      ],
      "text/plain": [
       "┏━━━━━━━━━━━━━━━━━━━━━━━━━━━━━━━━━┳━━━━━━━━━━━━━━━━━━━━━━━━┳━━━━━━━━━━━━━━━┓\n",
       "┃\u001B[1m \u001B[0m\u001B[1mLayer (type)                   \u001B[0m\u001B[1m \u001B[0m┃\u001B[1m \u001B[0m\u001B[1mOutput Shape          \u001B[0m\u001B[1m \u001B[0m┃\u001B[1m \u001B[0m\u001B[1m      Param #\u001B[0m\u001B[1m \u001B[0m┃\n",
       "┡━━━━━━━━━━━━━━━━━━━━━━━━━━━━━━━━━╇━━━━━━━━━━━━━━━━━━━━━━━━╇━━━━━━━━━━━━━━━┩\n",
       "│ encoder_2 (\u001B[38;5;33mEncoder\u001B[0m)             │ ?                      │        \u001B[38;5;34m55,552\u001B[0m │\n",
       "├─────────────────────────────────┼────────────────────────┼───────────────┤\n",
       "│ dense_14 (\u001B[38;5;33mDense\u001B[0m)                │ (\u001B[38;5;34m1\u001B[0m, \u001B[38;5;34m18\u001B[0m)                │           \u001B[38;5;34m594\u001B[0m │\n",
       "└─────────────────────────────────┴────────────────────────┴───────────────┘\n"
      ]
     },
     "metadata": {},
     "output_type": "display_data"
    },
    {
     "data": {
      "text/html": [
       "<pre style=\"white-space:pre;overflow-x:auto;line-height:normal;font-family:Menlo,'DejaVu Sans Mono',consolas,'Courier New',monospace\"><span style=\"font-weight: bold\"> Total params: </span><span style=\"color: #00af00; text-decoration-color: #00af00\">56,146</span> (219.32 KB)\n",
       "</pre>\n"
      ],
      "text/plain": [
       "\u001B[1m Total params: \u001B[0m\u001B[38;5;34m56,146\u001B[0m (219.32 KB)\n"
      ]
     },
     "metadata": {},
     "output_type": "display_data"
    },
    {
     "data": {
      "text/html": [
       "<pre style=\"white-space:pre;overflow-x:auto;line-height:normal;font-family:Menlo,'DejaVu Sans Mono',consolas,'Courier New',monospace\"><span style=\"font-weight: bold\"> Trainable params: </span><span style=\"color: #00af00; text-decoration-color: #00af00\">56,146</span> (219.32 KB)\n",
       "</pre>\n"
      ],
      "text/plain": [
       "\u001B[1m Trainable params: \u001B[0m\u001B[38;5;34m56,146\u001B[0m (219.32 KB)\n"
      ]
     },
     "metadata": {},
     "output_type": "display_data"
    },
    {
     "data": {
      "text/html": [
       "<pre style=\"white-space:pre;overflow-x:auto;line-height:normal;font-family:Menlo,'DejaVu Sans Mono',consolas,'Courier New',monospace\"><span style=\"font-weight: bold\"> Non-trainable params: </span><span style=\"color: #00af00; text-decoration-color: #00af00\">0</span> (0.00 B)\n",
       "</pre>\n"
      ],
      "text/plain": [
       "\u001B[1m Non-trainable params: \u001B[0m\u001B[38;5;34m0\u001B[0m (0.00 B)\n"
      ]
     },
     "metadata": {},
     "output_type": "display_data"
    },
    {
     "name": "stdout",
     "output_type": "stream",
     "text": [
      "Running 3 transformer_3/\n",
      "EVALUATING SEQUENCES FROM outputs/\n"
     ]
    },
    {
     "data": {
      "text/html": [
       "<pre style=\"white-space:pre;overflow-x:auto;line-height:normal;font-family:Menlo,'DejaVu Sans Mono',consolas,'Courier New',monospace\"><span style=\"font-weight: bold\">Model: \"transformer_encoder_3\"</span>\n",
       "</pre>\n"
      ],
      "text/plain": [
       "\u001B[1mModel: \"transformer_encoder_3\"\u001B[0m\n"
      ]
     },
     "metadata": {},
     "output_type": "display_data"
    },
    {
     "data": {
      "text/html": [
       "<pre style=\"white-space:pre;overflow-x:auto;line-height:normal;font-family:Menlo,'DejaVu Sans Mono',consolas,'Courier New',monospace\">┏━━━━━━━━━━━━━━━━━━━━━━━━━━━━━━━━━┳━━━━━━━━━━━━━━━━━━━━━━━━┳━━━━━━━━━━━━━━━┓\n",
       "┃<span style=\"font-weight: bold\"> Layer (type)                    </span>┃<span style=\"font-weight: bold\"> Output Shape           </span>┃<span style=\"font-weight: bold\">       Param # </span>┃\n",
       "┡━━━━━━━━━━━━━━━━━━━━━━━━━━━━━━━━━╇━━━━━━━━━━━━━━━━━━━━━━━━╇━━━━━━━━━━━━━━━┩\n",
       "│ encoder_3 (<span style=\"color: #0087ff; text-decoration-color: #0087ff\">Encoder</span>)             │ ?                      │        <span style=\"color: #00af00; text-decoration-color: #00af00\">55,552</span> │\n",
       "├─────────────────────────────────┼────────────────────────┼───────────────┤\n",
       "│ dense_19 (<span style=\"color: #0087ff; text-decoration-color: #0087ff\">Dense</span>)                │ (<span style=\"color: #00af00; text-decoration-color: #00af00\">1</span>, <span style=\"color: #00af00; text-decoration-color: #00af00\">18</span>)                │           <span style=\"color: #00af00; text-decoration-color: #00af00\">594</span> │\n",
       "└─────────────────────────────────┴────────────────────────┴───────────────┘\n",
       "</pre>\n"
      ],
      "text/plain": [
       "┏━━━━━━━━━━━━━━━━━━━━━━━━━━━━━━━━━┳━━━━━━━━━━━━━━━━━━━━━━━━┳━━━━━━━━━━━━━━━┓\n",
       "┃\u001B[1m \u001B[0m\u001B[1mLayer (type)                   \u001B[0m\u001B[1m \u001B[0m┃\u001B[1m \u001B[0m\u001B[1mOutput Shape          \u001B[0m\u001B[1m \u001B[0m┃\u001B[1m \u001B[0m\u001B[1m      Param #\u001B[0m\u001B[1m \u001B[0m┃\n",
       "┡━━━━━━━━━━━━━━━━━━━━━━━━━━━━━━━━━╇━━━━━━━━━━━━━━━━━━━━━━━━╇━━━━━━━━━━━━━━━┩\n",
       "│ encoder_3 (\u001B[38;5;33mEncoder\u001B[0m)             │ ?                      │        \u001B[38;5;34m55,552\u001B[0m │\n",
       "├─────────────────────────────────┼────────────────────────┼───────────────┤\n",
       "│ dense_19 (\u001B[38;5;33mDense\u001B[0m)                │ (\u001B[38;5;34m1\u001B[0m, \u001B[38;5;34m18\u001B[0m)                │           \u001B[38;5;34m594\u001B[0m │\n",
       "└─────────────────────────────────┴────────────────────────┴───────────────┘\n"
      ]
     },
     "metadata": {},
     "output_type": "display_data"
    },
    {
     "data": {
      "text/html": [
       "<pre style=\"white-space:pre;overflow-x:auto;line-height:normal;font-family:Menlo,'DejaVu Sans Mono',consolas,'Courier New',monospace\"><span style=\"font-weight: bold\"> Total params: </span><span style=\"color: #00af00; text-decoration-color: #00af00\">56,146</span> (219.32 KB)\n",
       "</pre>\n"
      ],
      "text/plain": [
       "\u001B[1m Total params: \u001B[0m\u001B[38;5;34m56,146\u001B[0m (219.32 KB)\n"
      ]
     },
     "metadata": {},
     "output_type": "display_data"
    },
    {
     "data": {
      "text/html": [
       "<pre style=\"white-space:pre;overflow-x:auto;line-height:normal;font-family:Menlo,'DejaVu Sans Mono',consolas,'Courier New',monospace\"><span style=\"font-weight: bold\"> Trainable params: </span><span style=\"color: #00af00; text-decoration-color: #00af00\">56,146</span> (219.32 KB)\n",
       "</pre>\n"
      ],
      "text/plain": [
       "\u001B[1m Trainable params: \u001B[0m\u001B[38;5;34m56,146\u001B[0m (219.32 KB)\n"
      ]
     },
     "metadata": {},
     "output_type": "display_data"
    },
    {
     "data": {
      "text/html": [
       "<pre style=\"white-space:pre;overflow-x:auto;line-height:normal;font-family:Menlo,'DejaVu Sans Mono',consolas,'Courier New',monospace\"><span style=\"font-weight: bold\"> Non-trainable params: </span><span style=\"color: #00af00; text-decoration-color: #00af00\">0</span> (0.00 B)\n",
       "</pre>\n"
      ],
      "text/plain": [
       "\u001B[1m Non-trainable params: \u001B[0m\u001B[38;5;34m0\u001B[0m (0.00 B)\n"
      ]
     },
     "metadata": {},
     "output_type": "display_data"
    },
    {
     "name": "stdout",
     "output_type": "stream",
     "text": [
      "Running 4 transformer_4/\n",
      "EVALUATING SEQUENCES FROM outputs/\n"
     ]
    },
    {
     "data": {
      "text/html": [
       "<pre style=\"white-space:pre;overflow-x:auto;line-height:normal;font-family:Menlo,'DejaVu Sans Mono',consolas,'Courier New',monospace\"><span style=\"font-weight: bold\">Model: \"transformer_encoder_4\"</span>\n",
       "</pre>\n"
      ],
      "text/plain": [
       "\u001B[1mModel: \"transformer_encoder_4\"\u001B[0m\n"
      ]
     },
     "metadata": {},
     "output_type": "display_data"
    },
    {
     "data": {
      "text/html": [
       "<pre style=\"white-space:pre;overflow-x:auto;line-height:normal;font-family:Menlo,'DejaVu Sans Mono',consolas,'Courier New',monospace\">┏━━━━━━━━━━━━━━━━━━━━━━━━━━━━━━━━━┳━━━━━━━━━━━━━━━━━━━━━━━━┳━━━━━━━━━━━━━━━┓\n",
       "┃<span style=\"font-weight: bold\"> Layer (type)                    </span>┃<span style=\"font-weight: bold\"> Output Shape           </span>┃<span style=\"font-weight: bold\">       Param # </span>┃\n",
       "┡━━━━━━━━━━━━━━━━━━━━━━━━━━━━━━━━━╇━━━━━━━━━━━━━━━━━━━━━━━━╇━━━━━━━━━━━━━━━┩\n",
       "│ encoder_4 (<span style=\"color: #0087ff; text-decoration-color: #0087ff\">Encoder</span>)             │ ?                      │        <span style=\"color: #00af00; text-decoration-color: #00af00\">55,552</span> │\n",
       "├─────────────────────────────────┼────────────────────────┼───────────────┤\n",
       "│ dense_24 (<span style=\"color: #0087ff; text-decoration-color: #0087ff\">Dense</span>)                │ (<span style=\"color: #00af00; text-decoration-color: #00af00\">1</span>, <span style=\"color: #00af00; text-decoration-color: #00af00\">18</span>)                │           <span style=\"color: #00af00; text-decoration-color: #00af00\">594</span> │\n",
       "└─────────────────────────────────┴────────────────────────┴───────────────┘\n",
       "</pre>\n"
      ],
      "text/plain": [
       "┏━━━━━━━━━━━━━━━━━━━━━━━━━━━━━━━━━┳━━━━━━━━━━━━━━━━━━━━━━━━┳━━━━━━━━━━━━━━━┓\n",
       "┃\u001B[1m \u001B[0m\u001B[1mLayer (type)                   \u001B[0m\u001B[1m \u001B[0m┃\u001B[1m \u001B[0m\u001B[1mOutput Shape          \u001B[0m\u001B[1m \u001B[0m┃\u001B[1m \u001B[0m\u001B[1m      Param #\u001B[0m\u001B[1m \u001B[0m┃\n",
       "┡━━━━━━━━━━━━━━━━━━━━━━━━━━━━━━━━━╇━━━━━━━━━━━━━━━━━━━━━━━━╇━━━━━━━━━━━━━━━┩\n",
       "│ encoder_4 (\u001B[38;5;33mEncoder\u001B[0m)             │ ?                      │        \u001B[38;5;34m55,552\u001B[0m │\n",
       "├─────────────────────────────────┼────────────────────────┼───────────────┤\n",
       "│ dense_24 (\u001B[38;5;33mDense\u001B[0m)                │ (\u001B[38;5;34m1\u001B[0m, \u001B[38;5;34m18\u001B[0m)                │           \u001B[38;5;34m594\u001B[0m │\n",
       "└─────────────────────────────────┴────────────────────────┴───────────────┘\n"
      ]
     },
     "metadata": {},
     "output_type": "display_data"
    },
    {
     "data": {
      "text/html": [
       "<pre style=\"white-space:pre;overflow-x:auto;line-height:normal;font-family:Menlo,'DejaVu Sans Mono',consolas,'Courier New',monospace\"><span style=\"font-weight: bold\"> Total params: </span><span style=\"color: #00af00; text-decoration-color: #00af00\">56,146</span> (219.32 KB)\n",
       "</pre>\n"
      ],
      "text/plain": [
       "\u001B[1m Total params: \u001B[0m\u001B[38;5;34m56,146\u001B[0m (219.32 KB)\n"
      ]
     },
     "metadata": {},
     "output_type": "display_data"
    },
    {
     "data": {
      "text/html": [
       "<pre style=\"white-space:pre;overflow-x:auto;line-height:normal;font-family:Menlo,'DejaVu Sans Mono',consolas,'Courier New',monospace\"><span style=\"font-weight: bold\"> Trainable params: </span><span style=\"color: #00af00; text-decoration-color: #00af00\">56,146</span> (219.32 KB)\n",
       "</pre>\n"
      ],
      "text/plain": [
       "\u001B[1m Trainable params: \u001B[0m\u001B[38;5;34m56,146\u001B[0m (219.32 KB)\n"
      ]
     },
     "metadata": {},
     "output_type": "display_data"
    },
    {
     "data": {
      "text/html": [
       "<pre style=\"white-space:pre;overflow-x:auto;line-height:normal;font-family:Menlo,'DejaVu Sans Mono',consolas,'Courier New',monospace\"><span style=\"font-weight: bold\"> Non-trainable params: </span><span style=\"color: #00af00; text-decoration-color: #00af00\">0</span> (0.00 B)\n",
       "</pre>\n"
      ],
      "text/plain": [
       "\u001B[1m Non-trainable params: \u001B[0m\u001B[38;5;34m0\u001B[0m (0.00 B)\n"
      ]
     },
     "metadata": {},
     "output_type": "display_data"
    },
    {
     "name": "stdout",
     "output_type": "stream",
     "text": [
      "(5, 7, 18)\n",
      "Calculated confidence\n",
      "Iterating over MMP1\n",
      "writing all scores\n",
      "writing all scores\n",
      "Iterating over MMP10\n",
      "Iterating over MMP11\n",
      "Iterating over MMP12\n",
      "Iterating over MMP13\n",
      "Iterating over MMP14\n",
      "Iterating over MMP15\n",
      "Iterating over MMP16\n",
      "Iterating over MMP17\n",
      "Iterating over MMP19\n",
      "Iterating over MMP2\n",
      "Iterating over MMP20\n",
      "Iterating over MMP24\n",
      "Iterating over MMP25\n",
      "Iterating over MMP3\n",
      "Iterating over MMP7\n",
      "Iterating over MMP8\n",
      "Iterating over MMP9\n"
     ]
    }
   ],
   "source": [
    "# Run this cell as is; there will be lots of print statements, you can ignore them \n",
    "pred_zscores, unc_scores = predict_scores_simple(substrates, \n",
    "                                                 checkpoint_dir=checkpoint_dir, \n",
    "                                                 save_dir=save_dir, \n",
    "                                                 model_architecture=model_architecture)"
   ]
  },
  {
   "cell_type": "code",
   "execution_count": 5,
   "id": "83ec035b",
   "metadata": {},
   "outputs": [
    {
     "data": {
      "text/html": [
       "<div>\n",
       "<style scoped>\n",
       "    .dataframe tbody tr th:only-of-type {\n",
       "        vertical-align: middle;\n",
       "    }\n",
       "\n",
       "    .dataframe tbody tr th {\n",
       "        vertical-align: top;\n",
       "    }\n",
       "\n",
       "    .dataframe thead th {\n",
       "        text-align: right;\n",
       "    }\n",
       "</style>\n",
       "<table border=\"1\" class=\"dataframe\">\n",
       "  <thead>\n",
       "    <tr style=\"text-align: right;\">\n",
       "      <th></th>\n",
       "      <th>sequences</th>\n",
       "      <th>MMP1</th>\n",
       "      <th>MMP10</th>\n",
       "      <th>MMP11</th>\n",
       "      <th>MMP12</th>\n",
       "      <th>MMP13</th>\n",
       "      <th>MMP14</th>\n",
       "      <th>MMP15</th>\n",
       "      <th>MMP16</th>\n",
       "      <th>MMP17</th>\n",
       "      <th>MMP19</th>\n",
       "      <th>MMP2</th>\n",
       "      <th>MMP20</th>\n",
       "      <th>MMP24</th>\n",
       "      <th>MMP25</th>\n",
       "      <th>MMP3</th>\n",
       "      <th>MMP7</th>\n",
       "      <th>MMP8</th>\n",
       "      <th>MMP9</th>\n",
       "    </tr>\n",
       "  </thead>\n",
       "  <tbody>\n",
       "    <tr>\n",
       "      <th>0</th>\n",
       "      <td>--AAALS---</td>\n",
       "      <td>0.089758</td>\n",
       "      <td>0.416106</td>\n",
       "      <td>0.395101</td>\n",
       "      <td>0.417816</td>\n",
       "      <td>0.151502</td>\n",
       "      <td>0.177030</td>\n",
       "      <td>0.234210</td>\n",
       "      <td>0.239401</td>\n",
       "      <td>1.015475</td>\n",
       "      <td>-0.051086</td>\n",
       "      <td>-0.084090</td>\n",
       "      <td>0.634886</td>\n",
       "      <td>0.163208</td>\n",
       "      <td>1.292108</td>\n",
       "      <td>0.648528</td>\n",
       "      <td>0.674973</td>\n",
       "      <td>0.186854</td>\n",
       "      <td>0.679014</td>\n",
       "    </tr>\n",
       "    <tr>\n",
       "      <th>1</th>\n",
       "      <td>FMPLNFTASG</td>\n",
       "      <td>3.285574</td>\n",
       "      <td>3.171740</td>\n",
       "      <td>2.848731</td>\n",
       "      <td>1.982434</td>\n",
       "      <td>2.459345</td>\n",
       "      <td>1.657082</td>\n",
       "      <td>1.633623</td>\n",
       "      <td>1.669428</td>\n",
       "      <td>1.150125</td>\n",
       "      <td>0.990345</td>\n",
       "      <td>2.918435</td>\n",
       "      <td>2.426162</td>\n",
       "      <td>1.772338</td>\n",
       "      <td>2.173389</td>\n",
       "      <td>2.123676</td>\n",
       "      <td>1.374689</td>\n",
       "      <td>3.808247</td>\n",
       "      <td>2.432182</td>\n",
       "    </tr>\n",
       "    <tr>\n",
       "      <th>2</th>\n",
       "      <td>LGPYAMTSRG</td>\n",
       "      <td>3.140482</td>\n",
       "      <td>2.308038</td>\n",
       "      <td>2.695278</td>\n",
       "      <td>1.706032</td>\n",
       "      <td>2.480260</td>\n",
       "      <td>2.179933</td>\n",
       "      <td>1.696465</td>\n",
       "      <td>2.002263</td>\n",
       "      <td>1.492033</td>\n",
       "      <td>0.693252</td>\n",
       "      <td>3.440998</td>\n",
       "      <td>1.984635</td>\n",
       "      <td>2.076391</td>\n",
       "      <td>1.580685</td>\n",
       "      <td>2.486686</td>\n",
       "      <td>1.349398</td>\n",
       "      <td>2.749578</td>\n",
       "      <td>2.608290</td>\n",
       "    </tr>\n",
       "    <tr>\n",
       "      <th>3</th>\n",
       "      <td>AARFKKFATE</td>\n",
       "      <td>-0.653065</td>\n",
       "      <td>-0.384744</td>\n",
       "      <td>-0.549065</td>\n",
       "      <td>-0.549792</td>\n",
       "      <td>-0.762877</td>\n",
       "      <td>-0.659807</td>\n",
       "      <td>-0.961453</td>\n",
       "      <td>-0.986819</td>\n",
       "      <td>-0.156165</td>\n",
       "      <td>0.445911</td>\n",
       "      <td>-0.466166</td>\n",
       "      <td>-0.208736</td>\n",
       "      <td>-0.936325</td>\n",
       "      <td>-0.405631</td>\n",
       "      <td>-0.042812</td>\n",
       "      <td>-0.653908</td>\n",
       "      <td>-0.798303</td>\n",
       "      <td>-0.099508</td>\n",
       "    </tr>\n",
       "    <tr>\n",
       "      <th>4</th>\n",
       "      <td>AKPNRLVNSY</td>\n",
       "      <td>-0.397820</td>\n",
       "      <td>-0.292255</td>\n",
       "      <td>-0.243780</td>\n",
       "      <td>0.316298</td>\n",
       "      <td>0.154016</td>\n",
       "      <td>-0.758082</td>\n",
       "      <td>-0.627322</td>\n",
       "      <td>-0.753332</td>\n",
       "      <td>0.444348</td>\n",
       "      <td>0.449070</td>\n",
       "      <td>0.348303</td>\n",
       "      <td>0.192085</td>\n",
       "      <td>-0.638082</td>\n",
       "      <td>0.001487</td>\n",
       "      <td>0.165671</td>\n",
       "      <td>0.584138</td>\n",
       "      <td>0.031637</td>\n",
       "      <td>0.092842</td>\n",
       "    </tr>\n",
       "  </tbody>\n",
       "</table>\n",
       "</div>"
      ],
      "text/plain": [
       "    sequences      MMP1     MMP10     MMP11     MMP12     MMP13     MMP14  \\\n",
       "0  --AAALS---  0.089758  0.416106  0.395101  0.417816  0.151502  0.177030   \n",
       "1  FMPLNFTASG  3.285574  3.171740  2.848731  1.982434  2.459345  1.657082   \n",
       "2  LGPYAMTSRG  3.140482  2.308038  2.695278  1.706032  2.480260  2.179933   \n",
       "3  AARFKKFATE -0.653065 -0.384744 -0.549065 -0.549792 -0.762877 -0.659807   \n",
       "4  AKPNRLVNSY -0.397820 -0.292255 -0.243780  0.316298  0.154016 -0.758082   \n",
       "\n",
       "      MMP15     MMP16     MMP17     MMP19      MMP2     MMP20     MMP24  \\\n",
       "0  0.234210  0.239401  1.015475 -0.051086 -0.084090  0.634886  0.163208   \n",
       "1  1.633623  1.669428  1.150125  0.990345  2.918435  2.426162  1.772338   \n",
       "2  1.696465  2.002263  1.492033  0.693252  3.440998  1.984635  2.076391   \n",
       "3 -0.961453 -0.986819 -0.156165  0.445911 -0.466166 -0.208736 -0.936325   \n",
       "4 -0.627322 -0.753332  0.444348  0.449070  0.348303  0.192085 -0.638082   \n",
       "\n",
       "      MMP25      MMP3      MMP7      MMP8      MMP9  \n",
       "0  1.292108  0.648528  0.674973  0.186854  0.679014  \n",
       "1  2.173389  2.123676  1.374689  3.808247  2.432182  \n",
       "2  1.580685  2.486686  1.349398  2.749578  2.608290  \n",
       "3 -0.405631 -0.042812 -0.653908 -0.798303 -0.099508  \n",
       "4  0.001487  0.165671  0.584138  0.031637  0.092842  "
      ]
     },
     "execution_count": 5,
     "metadata": {},
     "output_type": "execute_result"
    }
   ],
   "source": [
    "# Predictions and plots have been saved to the outputs dir, lets look at what is inside these files \n",
    "\n",
    "# To get cleavage predictions \n",
    "pred_file = os.path.join(save_dir, 'all_scores.csv')\n",
    "predictions = pd.read_csv(pred_file)\n",
    "sequences = [seq[1:] for seq in predictions['sequences'].tolist()] # clean model outputs, get rid of extra tokens \n",
    "predictions['sequences'] = sequences\n",
    "\n",
    "# Print z-score predictions \n",
    "predictions.head()"
   ]
  },
  {
   "cell_type": "code",
   "execution_count": 6,
   "id": "03546a8b",
   "metadata": {},
   "outputs": [
    {
     "data": {
      "text/html": [
       "<div>\n",
       "<style scoped>\n",
       "    .dataframe tbody tr th:only-of-type {\n",
       "        vertical-align: middle;\n",
       "    }\n",
       "\n",
       "    .dataframe tbody tr th {\n",
       "        vertical-align: top;\n",
       "    }\n",
       "\n",
       "    .dataframe thead th {\n",
       "        text-align: right;\n",
       "    }\n",
       "</style>\n",
       "<table border=\"1\" class=\"dataframe\">\n",
       "  <thead>\n",
       "    <tr style=\"text-align: right;\">\n",
       "      <th></th>\n",
       "      <th>MMP1_ss</th>\n",
       "      <th>MMP10_ss</th>\n",
       "      <th>MMP11_ss</th>\n",
       "      <th>MMP12_ss</th>\n",
       "      <th>MMP13_ss</th>\n",
       "      <th>MMP14_ss</th>\n",
       "      <th>MMP15_ss</th>\n",
       "      <th>MMP16_ss</th>\n",
       "      <th>MMP17_ss</th>\n",
       "      <th>MMP19_ss</th>\n",
       "      <th>MMP2_ss</th>\n",
       "      <th>MMP20_ss</th>\n",
       "      <th>MMP24_ss</th>\n",
       "      <th>MMP25_ss</th>\n",
       "      <th>MMP3_ss</th>\n",
       "      <th>MMP7_ss</th>\n",
       "      <th>MMP8_ss</th>\n",
       "      <th>MMP9_ss</th>\n",
       "      <th>sequences</th>\n",
       "    </tr>\n",
       "  </thead>\n",
       "  <tbody>\n",
       "    <tr>\n",
       "      <th>0</th>\n",
       "      <td>-0.333244</td>\n",
       "      <td>0.012301</td>\n",
       "      <td>-0.009940</td>\n",
       "      <td>0.014112</td>\n",
       "      <td>-0.267868</td>\n",
       "      <td>-0.240838</td>\n",
       "      <td>-0.180295</td>\n",
       "      <td>-0.174798</td>\n",
       "      <td>0.646926</td>\n",
       "      <td>-0.482373</td>\n",
       "      <td>-0.517318</td>\n",
       "      <td>0.243950</td>\n",
       "      <td>-0.255474</td>\n",
       "      <td>0.939832</td>\n",
       "      <td>0.258395</td>\n",
       "      <td>0.286395</td>\n",
       "      <td>-0.230436</td>\n",
       "      <td>0.290674</td>\n",
       "      <td>--AAALS---</td>\n",
       "    </tr>\n",
       "    <tr>\n",
       "      <th>1</th>\n",
       "      <td>1.133106</td>\n",
       "      <td>1.012575</td>\n",
       "      <td>0.670565</td>\n",
       "      <td>-0.246691</td>\n",
       "      <td>0.258274</td>\n",
       "      <td>-0.591180</td>\n",
       "      <td>-0.616019</td>\n",
       "      <td>-0.578108</td>\n",
       "      <td>-1.127959</td>\n",
       "      <td>-1.297137</td>\n",
       "      <td>0.744370</td>\n",
       "      <td>0.223139</td>\n",
       "      <td>-0.469144</td>\n",
       "      <td>-0.044503</td>\n",
       "      <td>-0.097140</td>\n",
       "      <td>-0.890185</td>\n",
       "      <td>1.686524</td>\n",
       "      <td>0.229513</td>\n",
       "      <td>FMPLNFTASG</td>\n",
       "    </tr>\n",
       "    <tr>\n",
       "      <th>2</th>\n",
       "      <td>1.050470</td>\n",
       "      <td>0.169058</td>\n",
       "      <td>0.579077</td>\n",
       "      <td>-0.468361</td>\n",
       "      <td>0.351411</td>\n",
       "      <td>0.033418</td>\n",
       "      <td>-0.478489</td>\n",
       "      <td>-0.154704</td>\n",
       "      <td>-0.694947</td>\n",
       "      <td>-1.540715</td>\n",
       "      <td>1.368663</td>\n",
       "      <td>-0.173369</td>\n",
       "      <td>-0.076215</td>\n",
       "      <td>-0.601080</td>\n",
       "      <td>0.358215</td>\n",
       "      <td>-0.845972</td>\n",
       "      <td>0.636571</td>\n",
       "      <td>0.486971</td>\n",
       "      <td>LGPYAMTSRG</td>\n",
       "    </tr>\n",
       "    <tr>\n",
       "      <th>3</th>\n",
       "      <td>-0.172112</td>\n",
       "      <td>0.111993</td>\n",
       "      <td>-0.061994</td>\n",
       "      <td>-0.062764</td>\n",
       "      <td>-0.288384</td>\n",
       "      <td>-0.179251</td>\n",
       "      <td>-0.498641</td>\n",
       "      <td>-0.525499</td>\n",
       "      <td>0.354017</td>\n",
       "      <td>0.991510</td>\n",
       "      <td>0.025781</td>\n",
       "      <td>0.298354</td>\n",
       "      <td>-0.472034</td>\n",
       "      <td>0.089877</td>\n",
       "      <td>0.474039</td>\n",
       "      <td>-0.173005</td>\n",
       "      <td>-0.325894</td>\n",
       "      <td>0.414007</td>\n",
       "      <td>AARFKKFATE</td>\n",
       "    </tr>\n",
       "    <tr>\n",
       "      <th>4</th>\n",
       "      <td>-0.366470</td>\n",
       "      <td>-0.254695</td>\n",
       "      <td>-0.203368</td>\n",
       "      <td>0.389656</td>\n",
       "      <td>0.217828</td>\n",
       "      <td>-0.747923</td>\n",
       "      <td>-0.609472</td>\n",
       "      <td>-0.742894</td>\n",
       "      <td>0.525238</td>\n",
       "      <td>0.530238</td>\n",
       "      <td>0.423543</td>\n",
       "      <td>0.258136</td>\n",
       "      <td>-0.620865</td>\n",
       "      <td>0.056327</td>\n",
       "      <td>0.230168</td>\n",
       "      <td>0.673250</td>\n",
       "      <td>0.088249</td>\n",
       "      <td>0.153055</td>\n",
       "      <td>AKPNRLVNSY</td>\n",
       "    </tr>\n",
       "  </tbody>\n",
       "</table>\n",
       "</div>"
      ],
      "text/plain": [
       "    MMP1_ss  MMP10_ss  MMP11_ss  MMP12_ss  MMP13_ss  MMP14_ss  MMP15_ss  \\\n",
       "0 -0.333244  0.012301 -0.009940  0.014112 -0.267868 -0.240838 -0.180295   \n",
       "1  1.133106  1.012575  0.670565 -0.246691  0.258274 -0.591180 -0.616019   \n",
       "2  1.050470  0.169058  0.579077 -0.468361  0.351411  0.033418 -0.478489   \n",
       "3 -0.172112  0.111993 -0.061994 -0.062764 -0.288384 -0.179251 -0.498641   \n",
       "4 -0.366470 -0.254695 -0.203368  0.389656  0.217828 -0.747923 -0.609472   \n",
       "\n",
       "   MMP16_ss  MMP17_ss  MMP19_ss   MMP2_ss  MMP20_ss  MMP24_ss  MMP25_ss  \\\n",
       "0 -0.174798  0.646926 -0.482373 -0.517318  0.243950 -0.255474  0.939832   \n",
       "1 -0.578108 -1.127959 -1.297137  0.744370  0.223139 -0.469144 -0.044503   \n",
       "2 -0.154704 -0.694947 -1.540715  1.368663 -0.173369 -0.076215 -0.601080   \n",
       "3 -0.525499  0.354017  0.991510  0.025781  0.298354 -0.472034  0.089877   \n",
       "4 -0.742894  0.525238  0.530238  0.423543  0.258136 -0.620865  0.056327   \n",
       "\n",
       "    MMP3_ss   MMP7_ss   MMP8_ss   MMP9_ss   sequences  \n",
       "0  0.258395  0.286395 -0.230436  0.290674  --AAALS---  \n",
       "1 -0.097140 -0.890185  1.686524  0.229513  FMPLNFTASG  \n",
       "2  0.358215 -0.845972  0.636571  0.486971  LGPYAMTSRG  \n",
       "3  0.474039 -0.173005 -0.325894  0.414007  AARFKKFATE  \n",
       "4  0.230168  0.673250  0.088249  0.153055  AKPNRLVNSY  "
      ]
     },
     "execution_count": 6,
     "metadata": {},
     "output_type": "execute_result"
    }
   ],
   "source": [
    "# Convert to selectivity scores\n",
    "selectivity = calc_selectivity_score(mmps, predictions)\n",
    "selectivity.rename(columns=lambda x:x+'_ss', inplace=True)\n",
    "selectivity['sequences'] = sequences\n",
    "\n",
    "# Print selectivity scores \n",
    "selectivity.head()"
   ]
  },
  {
   "cell_type": "code",
   "execution_count": 7,
   "id": "1ec8cbae",
   "metadata": {},
   "outputs": [
    {
     "data": {
      "text/html": [
       "<div>\n",
       "<style scoped>\n",
       "    .dataframe tbody tr th:only-of-type {\n",
       "        vertical-align: middle;\n",
       "    }\n",
       "\n",
       "    .dataframe tbody tr th {\n",
       "        vertical-align: top;\n",
       "    }\n",
       "\n",
       "    .dataframe thead th {\n",
       "        text-align: right;\n",
       "    }\n",
       "</style>\n",
       "<table border=\"1\" class=\"dataframe\">\n",
       "  <thead>\n",
       "    <tr style=\"text-align: right;\">\n",
       "      <th></th>\n",
       "      <th>sequences</th>\n",
       "      <th>MMP1_unc</th>\n",
       "      <th>MMP10_unc</th>\n",
       "      <th>MMP11_unc</th>\n",
       "      <th>MMP12_unc</th>\n",
       "      <th>MMP13_unc</th>\n",
       "      <th>MMP14_unc</th>\n",
       "      <th>MMP15_unc</th>\n",
       "      <th>MMP16_unc</th>\n",
       "      <th>MMP17_unc</th>\n",
       "      <th>MMP19_unc</th>\n",
       "      <th>MMP2_unc</th>\n",
       "      <th>MMP20_unc</th>\n",
       "      <th>MMP24_unc</th>\n",
       "      <th>MMP25_unc</th>\n",
       "      <th>MMP3_unc</th>\n",
       "      <th>MMP7_unc</th>\n",
       "      <th>MMP8_unc</th>\n",
       "      <th>MMP9_unc</th>\n",
       "    </tr>\n",
       "  </thead>\n",
       "  <tbody>\n",
       "    <tr>\n",
       "      <th>0</th>\n",
       "      <td>--AAALS---</td>\n",
       "      <td>0.262109</td>\n",
       "      <td>0.340885</td>\n",
       "      <td>0.273900</td>\n",
       "      <td>0.304532</td>\n",
       "      <td>0.274281</td>\n",
       "      <td>0.302288</td>\n",
       "      <td>0.298653</td>\n",
       "      <td>0.289559</td>\n",
       "      <td>0.424891</td>\n",
       "      <td>0.169061</td>\n",
       "      <td>0.186358</td>\n",
       "      <td>0.465333</td>\n",
       "      <td>0.359177</td>\n",
       "      <td>0.598374</td>\n",
       "      <td>0.289095</td>\n",
       "      <td>0.242053</td>\n",
       "      <td>0.259371</td>\n",
       "      <td>0.346406</td>\n",
       "    </tr>\n",
       "    <tr>\n",
       "      <th>1</th>\n",
       "      <td>FMPLNFTASG</td>\n",
       "      <td>0.155442</td>\n",
       "      <td>0.193782</td>\n",
       "      <td>0.158475</td>\n",
       "      <td>0.120033</td>\n",
       "      <td>0.119394</td>\n",
       "      <td>0.249987</td>\n",
       "      <td>0.108309</td>\n",
       "      <td>0.160417</td>\n",
       "      <td>0.230688</td>\n",
       "      <td>0.210301</td>\n",
       "      <td>0.164949</td>\n",
       "      <td>0.134725</td>\n",
       "      <td>0.199982</td>\n",
       "      <td>0.313814</td>\n",
       "      <td>0.092466</td>\n",
       "      <td>0.098594</td>\n",
       "      <td>0.220759</td>\n",
       "      <td>0.306856</td>\n",
       "    </tr>\n",
       "    <tr>\n",
       "      <th>2</th>\n",
       "      <td>LGPYAMTSRG</td>\n",
       "      <td>0.250653</td>\n",
       "      <td>0.284855</td>\n",
       "      <td>0.268286</td>\n",
       "      <td>0.158185</td>\n",
       "      <td>0.231395</td>\n",
       "      <td>0.357613</td>\n",
       "      <td>0.341678</td>\n",
       "      <td>0.375396</td>\n",
       "      <td>0.318326</td>\n",
       "      <td>0.277784</td>\n",
       "      <td>0.196136</td>\n",
       "      <td>0.304907</td>\n",
       "      <td>0.393130</td>\n",
       "      <td>0.504400</td>\n",
       "      <td>0.162541</td>\n",
       "      <td>0.228936</td>\n",
       "      <td>0.212801</td>\n",
       "      <td>0.228025</td>\n",
       "    </tr>\n",
       "    <tr>\n",
       "      <th>3</th>\n",
       "      <td>AARFKKFATE</td>\n",
       "      <td>0.081461</td>\n",
       "      <td>0.111044</td>\n",
       "      <td>0.149062</td>\n",
       "      <td>0.106750</td>\n",
       "      <td>0.335088</td>\n",
       "      <td>0.092935</td>\n",
       "      <td>0.229756</td>\n",
       "      <td>0.135304</td>\n",
       "      <td>0.136927</td>\n",
       "      <td>0.169514</td>\n",
       "      <td>0.167405</td>\n",
       "      <td>0.220520</td>\n",
       "      <td>0.108881</td>\n",
       "      <td>0.136434</td>\n",
       "      <td>0.202799</td>\n",
       "      <td>0.120205</td>\n",
       "      <td>0.087421</td>\n",
       "      <td>0.225216</td>\n",
       "    </tr>\n",
       "    <tr>\n",
       "      <th>4</th>\n",
       "      <td>AKPNRLVNSY</td>\n",
       "      <td>0.054186</td>\n",
       "      <td>0.195143</td>\n",
       "      <td>0.126771</td>\n",
       "      <td>0.184922</td>\n",
       "      <td>0.129664</td>\n",
       "      <td>0.058403</td>\n",
       "      <td>0.143238</td>\n",
       "      <td>0.148128</td>\n",
       "      <td>0.238515</td>\n",
       "      <td>0.226073</td>\n",
       "      <td>0.176992</td>\n",
       "      <td>0.208891</td>\n",
       "      <td>0.096399</td>\n",
       "      <td>0.156046</td>\n",
       "      <td>0.122133</td>\n",
       "      <td>0.225223</td>\n",
       "      <td>0.110016</td>\n",
       "      <td>0.083212</td>\n",
       "    </tr>\n",
       "  </tbody>\n",
       "</table>\n",
       "</div>"
      ],
      "text/plain": [
       "    sequences  MMP1_unc  MMP10_unc  MMP11_unc  MMP12_unc  MMP13_unc  \\\n",
       "0  --AAALS---  0.262109   0.340885   0.273900   0.304532   0.274281   \n",
       "1  FMPLNFTASG  0.155442   0.193782   0.158475   0.120033   0.119394   \n",
       "2  LGPYAMTSRG  0.250653   0.284855   0.268286   0.158185   0.231395   \n",
       "3  AARFKKFATE  0.081461   0.111044   0.149062   0.106750   0.335088   \n",
       "4  AKPNRLVNSY  0.054186   0.195143   0.126771   0.184922   0.129664   \n",
       "\n",
       "   MMP14_unc  MMP15_unc  MMP16_unc  MMP17_unc  MMP19_unc  MMP2_unc  MMP20_unc  \\\n",
       "0   0.302288   0.298653   0.289559   0.424891   0.169061  0.186358   0.465333   \n",
       "1   0.249987   0.108309   0.160417   0.230688   0.210301  0.164949   0.134725   \n",
       "2   0.357613   0.341678   0.375396   0.318326   0.277784  0.196136   0.304907   \n",
       "3   0.092935   0.229756   0.135304   0.136927   0.169514  0.167405   0.220520   \n",
       "4   0.058403   0.143238   0.148128   0.238515   0.226073  0.176992   0.208891   \n",
       "\n",
       "   MMP24_unc  MMP25_unc  MMP3_unc  MMP7_unc  MMP8_unc  MMP9_unc  \n",
       "0   0.359177   0.598374  0.289095  0.242053  0.259371  0.346406  \n",
       "1   0.199982   0.313814  0.092466  0.098594  0.220759  0.306856  \n",
       "2   0.393130   0.504400  0.162541  0.228936  0.212801  0.228025  \n",
       "3   0.108881   0.136434  0.202799  0.120205  0.087421  0.225216  \n",
       "4   0.096399   0.156046  0.122133  0.225223  0.110016  0.083212  "
      ]
     },
     "execution_count": 7,
     "metadata": {},
     "output_type": "execute_result"
    }
   ],
   "source": [
    "# To get predicted uncertainty  \n",
    "pred_file = os.path.join(save_dir, 'all_uncertainty.csv')\n",
    "uncertainty = pd.read_csv(pred_file)\n",
    "sequences = [seq[1:] for seq in uncertainty['sequences'].tolist()] # clean model outputs, get rid of extra tokens \n",
    "uncertainty['sequences'] = sequences\n",
    "uncertainty.rename(columns=lambda x:x+'_unc', inplace=True)\n",
    "uncertainty.rename(columns={'sequences_unc':'sequences'}, inplace=True)\n",
    "\n",
    "# Print uncertainty predictions \n",
    "uncertainty.head()"
   ]
  },
  {
   "cell_type": "code",
   "execution_count": 8,
   "id": "07ac9cd1",
   "metadata": {},
   "outputs": [
    {
     "data": {
      "text/html": [
       "<div>\n",
       "<style scoped>\n",
       "    .dataframe tbody tr th:only-of-type {\n",
       "        vertical-align: middle;\n",
       "    }\n",
       "\n",
       "    .dataframe tbody tr th {\n",
       "        vertical-align: top;\n",
       "    }\n",
       "\n",
       "    .dataframe thead th {\n",
       "        text-align: right;\n",
       "    }\n",
       "</style>\n",
       "<table border=\"1\" class=\"dataframe\">\n",
       "  <thead>\n",
       "    <tr style=\"text-align: right;\">\n",
       "      <th></th>\n",
       "      <th>sequences</th>\n",
       "      <th>MMP13</th>\n",
       "      <th>MMP13_ss</th>\n",
       "      <th>MMP13_unc</th>\n",
       "      <th>Prediction</th>\n",
       "    </tr>\n",
       "  </thead>\n",
       "  <tbody>\n",
       "    <tr>\n",
       "      <th>0</th>\n",
       "      <td>--AAALS---</td>\n",
       "      <td>0.151502</td>\n",
       "      <td>-0.267868</td>\n",
       "      <td>0.274281</td>\n",
       "      <td>Not Cleaved</td>\n",
       "    </tr>\n",
       "    <tr>\n",
       "      <th>1</th>\n",
       "      <td>AARFKKFATE</td>\n",
       "      <td>-0.762877</td>\n",
       "      <td>-0.288384</td>\n",
       "      <td>0.335088</td>\n",
       "      <td>Not Cleaved</td>\n",
       "    </tr>\n",
       "    <tr>\n",
       "      <th>2</th>\n",
       "      <td>AKPNRLVNSY</td>\n",
       "      <td>0.154016</td>\n",
       "      <td>0.217828</td>\n",
       "      <td>0.129664</td>\n",
       "      <td>Not Cleaved</td>\n",
       "    </tr>\n",
       "    <tr>\n",
       "      <th>3</th>\n",
       "      <td>FMPLNFTASG</td>\n",
       "      <td>2.459345</td>\n",
       "      <td>0.258274</td>\n",
       "      <td>0.119394</td>\n",
       "      <td>Cleaved</td>\n",
       "    </tr>\n",
       "    <tr>\n",
       "      <th>4</th>\n",
       "      <td>LGPYAMTSRG</td>\n",
       "      <td>2.480260</td>\n",
       "      <td>0.351411</td>\n",
       "      <td>0.231395</td>\n",
       "      <td>Cleaved</td>\n",
       "    </tr>\n",
       "    <tr>\n",
       "      <th>5</th>\n",
       "      <td>SGPRAFWGTA</td>\n",
       "      <td>1.671879</td>\n",
       "      <td>1.660560</td>\n",
       "      <td>0.150237</td>\n",
       "      <td>Cleaved</td>\n",
       "    </tr>\n",
       "    <tr>\n",
       "      <th>6</th>\n",
       "      <td>YGPRAVTASG</td>\n",
       "      <td>1.777247</td>\n",
       "      <td>1.664469</td>\n",
       "      <td>0.222280</td>\n",
       "      <td>Cleaved</td>\n",
       "    </tr>\n",
       "  </tbody>\n",
       "</table>\n",
       "</div>"
      ],
      "text/plain": [
       "    sequences     MMP13  MMP13_ss  MMP13_unc   Prediction\n",
       "0  --AAALS---  0.151502 -0.267868   0.274281  Not Cleaved\n",
       "1  AARFKKFATE -0.762877 -0.288384   0.335088  Not Cleaved\n",
       "2  AKPNRLVNSY  0.154016  0.217828   0.129664  Not Cleaved\n",
       "3  FMPLNFTASG  2.459345  0.258274   0.119394      Cleaved\n",
       "4  LGPYAMTSRG  2.480260  0.351411   0.231395      Cleaved\n",
       "5  SGPRAFWGTA  1.671879  1.660560   0.150237      Cleaved\n",
       "6  YGPRAVTASG  1.777247  1.664469   0.222280      Cleaved"
      ]
     },
     "execution_count": 8,
     "metadata": {},
     "output_type": "execute_result"
    }
   ],
   "source": [
    "# Looking closer at MMP13, lets look at the distribution of predicted cleavage, selectivity, and uncertainty\n",
    "mmp_choice = 'MMP13'\n",
    "\n",
    "mmp_df = predictions[['sequences',mmp_choice]].merge(selectivity[['sequences',mmp_choice+'_ss']], how='outer')\n",
    "mmp_df = mmp_df.merge(uncertainty[['sequences',mmp_choice+'_unc']], how='outer')\n",
    "\n",
    "# We can assign a binary cleavage prediction using thresholds determined for each MMP in Table S5 in the paper\n",
    "z_cutoff = 1.0\n",
    "mmp_df['Prediction'] = mmp_df[mmp_choice].apply(lambda x: 'Cleaved' if x > z_cutoff else 'Not Cleaved')\n",
    "mmp_df"
   ]
  },
  {
   "cell_type": "markdown",
   "id": "8b92f8b9",
   "metadata": {},
   "source": [
    "# CleaveNet generations\n",
    "\n",
    "Design a new set of substrates unconditionally. To provide a set of z-scores for conditional generation, we recommend using the command line input arguments as described in the `README.md`"
   ]
  },
  {
   "cell_type": "code",
   "execution_count": 9,
   "id": "ee4fd073-de5e-4051-b7de-0bc341a7a29f",
   "metadata": {},
   "outputs": [],
   "source": [
    "## ---- Inputs to change ----- ### \n",
    "\n",
    "# replace the following with desired parameters\n",
    "\n",
    "temperature=1 # higher == more diverse, lower == less diverse. We reccomend a range between 0.7 and 1.2 \n",
    "repeat_penalty=1.2 # higher numbers impose a penalty on repeat AA, a value of 1 is no penalty \n",
    "num_seqs = 10 # how many sequences to generate "
   ]
  },
  {
   "cell_type": "code",
   "execution_count": 10,
   "id": "15411aa0-1af8-4b24-9caf-a7152eb41c7d",
   "metadata": {},
   "outputs": [],
   "source": [
    "from cleavenet.models import simple_inference"
   ]
  },
  {
   "cell_type": "code",
   "execution_count": 12,
   "id": "0a9df634-3d83-4857-aca8-7be967f0de75",
   "metadata": {},
   "outputs": [
    {
     "name": "stdout",
     "output_type": "stream",
     "text": [
      "Splits previously written to file\n",
      "Vocab: \n",
      " {'A': 0, 'C': 1, 'D': 2, 'E': 3, 'F': 4, 'G': 5, 'H': 6, 'I': 7, 'K': 8, 'L': 9, 'M': 10, 'N': 11, 'P': 12, 'Q': 13, 'R': 14, 'S': 15, 'T': 16, 'V': 17, 'W': 18, 'Y': 19, '$': 20, '*': 21}\n"
     ]
    }
   ],
   "source": [
    "substrate_designs = simple_inference(num_seqs, repeat_penalty, temperature)"
   ]
  },
  {
   "cell_type": "code",
   "execution_count": 13,
   "id": "6a79a857-ada8-4d24-a2f2-211bc679330d",
   "metadata": {},
   "outputs": [
    {
     "data": {
      "text/plain": [
       "['SLPLNLSYEK',\n",
       " 'RPLSHWQATI',\n",
       " 'SLPRYLYDVQ',\n",
       " 'PLAWHYISGI',\n",
       " 'MSLATLWAGW',\n",
       " 'IMARYLYDPW',\n",
       " 'LPLASLWSGY',\n",
       " 'CAVASLRDWY',\n",
       " 'PVPKWITASG',\n",
       " 'SPVKWLQSGY']"
      ]
     },
     "execution_count": 13,
     "metadata": {},
     "output_type": "execute_result"
    }
   ],
   "source": [
    "substrate_designs"
   ]
  },
  {
   "cell_type": "code",
   "execution_count": null,
   "id": "67d4fb15-e4a8-4836-86ea-4292724865c3",
   "metadata": {},
   "outputs": [],
   "source": []
  }
 ],
 "metadata": {
  "kernelspec": {
   "display_name": "Python 3 (ipykernel)",
   "language": "python",
   "name": "python3"
  },
  "language_info": {
   "codemirror_mode": {
    "name": "ipython",
    "version": 3
   },
   "file_extension": ".py",
   "mimetype": "text/x-python",
   "name": "python",
   "nbconvert_exporter": "python",
   "pygments_lexer": "ipython3",
   "version": "3.12.8"
  }
 },
 "nbformat": 4,
 "nbformat_minor": 5
}
